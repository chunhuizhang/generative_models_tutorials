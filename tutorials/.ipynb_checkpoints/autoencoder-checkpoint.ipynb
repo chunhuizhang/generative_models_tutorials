{
 "cells": [
  {
   "cell_type": "markdown",
   "id": "dac37846",
   "metadata": {},
   "source": [
    "## basics"
   ]
  },
  {
   "cell_type": "markdown",
   "id": "ded45d70",
   "metadata": {},
   "source": [
    "- references\n",
    "    - https://atcold.github.io/pytorch-Deep-Learning/en/week07/07-3/\n",
    "    - https://github.com/Atcold/pytorch-Deep-Learning/blob/master/10-autoencoder.ipynb"
   ]
  },
  {
   "cell_type": "code",
   "execution_count": 1,
   "id": "960eb4bd",
   "metadata": {
    "ExecuteTime": {
     "end_time": "2023-08-01T14:55:13.000558Z",
     "start_time": "2023-08-01T14:55:11.360821Z"
    }
   },
   "outputs": [],
   "source": [
    "import torch\n",
    "import torchvision\n",
    "from torch import nn\n",
    "from torch.utils.data import DataLoader\n",
    "from torchvision import transforms, datasets\n",
    "from matplotlib import pyplot as plt"
   ]
  },
  {
   "cell_type": "code",
   "execution_count": 2,
   "id": "ffb020a1",
   "metadata": {
    "ExecuteTime": {
     "end_time": "2023-08-01T14:55:29.921202Z",
     "start_time": "2023-08-01T14:55:29.914999Z"
    }
   },
   "outputs": [],
   "source": [
    "# (-1, 1) => (0, 1)\n",
    "def to_img(x):\n",
    "    x = 0.5 * (x + 1)\n",
    "    x = x.view(x.size(0), 28, 28)\n",
    "    return x"
   ]
  }
 ],
 "metadata": {
  "kernelspec": {
   "display_name": "Python 3 (ipykernel)",
   "language": "python",
   "name": "python3"
  },
  "language_info": {
   "codemirror_mode": {
    "name": "ipython",
    "version": 3
   },
   "file_extension": ".py",
   "mimetype": "text/x-python",
   "name": "python",
   "nbconvert_exporter": "python",
   "pygments_lexer": "ipython3",
   "version": "3.10.9"
  },
  "toc": {
   "base_numbering": 1,
   "nav_menu": {},
   "number_sections": true,
   "sideBar": true,
   "skip_h1_title": false,
   "title_cell": "Table of Contents",
   "title_sidebar": "Contents",
   "toc_cell": false,
   "toc_position": {},
   "toc_section_display": true,
   "toc_window_display": false
  }
 },
 "nbformat": 4,
 "nbformat_minor": 5
}
