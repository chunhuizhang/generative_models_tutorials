{
 "cells": [
  {
   "cell_type": "markdown",
   "id": "0ed6dd01-2bb3-486b-b1e1-63dc944aded6",
   "metadata": {},
   "source": [
    "## VAE"
   ]
  },
  {
   "cell_type": "markdown",
   "id": "dee50a80-6c3d-4e65-86ee-8f97745447a9",
   "metadata": {},
   "source": [
    "$$\n",
    "x \\rightarrow z\n",
    "$$\n",
    "\n",
    "\n",
    "- encoder 编码器将输入数据 $x$ 映射到潜在变量 $z$。\n",
    "    - latent space 上的低维特性，通过编码器，模型学习如何将高维的数据 $x$ 压缩到一个低维的潜在表示 $z$ 中。\n",
    "- inference 推断（不同于推理）过程\n",
    "    - Variational Inference：变分推断，这个过程通常是通过一个高斯分布来表示，即 $q(z|x)$ 是一个参数化的分布（$q_\\theta(z|x)$），它估计给定 $x$ 的潜在变量 $z$ 的后验分布。\n",
    "\n",
    "$$\n",
    "z\\rightarrow x\n",
    "$$\n",
    "\n",
    "- decoder：解码器，重构；\n",
    "- generative model（生成模型）个过程通常是通过另一个高斯分布来表示，即 $p(x|z)$ 是一个参数化的分布，它表示给定潜在变量 𝑧 的数据 x 的生成分布。\n",
    "\n",
    "\n",
    "对于 diffusion model\n",
    "\n",
    "$$\n",
    "x_0\\rightarrow\\underbrace{x_1\\rightarrow x_2\\cdots \\rightarrow x_T}_{z}\n",
    "$$\n",
    "\n",
    "- 逐级加噪的过程相当于从 $x$ 映射到 $z$，站在概率图的视角"
   ]
  }
 ],
 "metadata": {
  "kernelspec": {
   "display_name": "Python 3 (ipykernel)",
   "language": "python",
   "name": "python3"
  },
  "language_info": {
   "codemirror_mode": {
    "name": "ipython",
    "version": 3
   },
   "file_extension": ".py",
   "mimetype": "text/x-python",
   "name": "python",
   "nbconvert_exporter": "python",
   "pygments_lexer": "ipython3",
   "version": "3.10.13"
  }
 },
 "nbformat": 4,
 "nbformat_minor": 5
}
