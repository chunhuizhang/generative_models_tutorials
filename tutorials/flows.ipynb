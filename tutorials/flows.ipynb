{
 "cells": [
  {
   "cell_type": "markdown",
   "id": "626c941c-1340-4606-aa1c-b3ab6f4692a1",
   "metadata": {},
   "source": [
    "- Unet可逆，就会变为flow，flow的问题是效果不好"
   ]
  }
 ],
 "metadata": {
  "kernelspec": {
   "display_name": "Python 3 (ipykernel)",
   "language": "python",
   "name": "python3"
  },
  "language_info": {
   "codemirror_mode": {
    "name": "ipython",
    "version": 3
   },
   "file_extension": ".py",
   "mimetype": "text/x-python",
   "name": "python",
   "nbconvert_exporter": "python",
   "pygments_lexer": "ipython3",
   "version": "3.10.13"
  }
 },
 "nbformat": 4,
 "nbformat_minor": 5
}
