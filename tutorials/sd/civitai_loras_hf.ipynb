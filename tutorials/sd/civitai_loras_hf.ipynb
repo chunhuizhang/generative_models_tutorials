{
 "cells": [
  {
   "cell_type": "markdown",
   "id": "a513c3b7-d2aa-45b2-aaa5-a4916033fbca",
   "metadata": {},
   "source": [
    "- https://civitai.com/"
   ]
  },
  {
   "cell_type": "markdown",
   "id": "568f6ec6-1086-4508-98f8-9f3db6885b03",
   "metadata": {},
   "source": [
    "## LORAs"
   ]
  },
  {
   "cell_type": "markdown",
   "id": "997f5107-abeb-4cf5-adda-4466b7ab5228",
   "metadata": {},
   "source": [
    "- Detail Tweaker （0407）\n",
    "    - 用于细节调整\n",
    "    - add detail：-1, 0, 1"
   ]
  },
  {
   "cell_type": "markdown",
   "id": "8e4992c4-2c94-4705-bb2c-cabff12c0275",
   "metadata": {},
   "source": [
    "## hf"
   ]
  },
  {
   "cell_type": "markdown",
   "id": "ce304192-abc4-42bf-8087-75468ed10be1",
   "metadata": {},
   "source": [
    "- Envvi/Inkpunk-Diffusion"
   ]
  }
 ],
 "metadata": {
  "kernelspec": {
   "display_name": "Python 3 (ipykernel)",
   "language": "python",
   "name": "python3"
  },
  "language_info": {
   "codemirror_mode": {
    "name": "ipython",
    "version": 3
   },
   "file_extension": ".py",
   "mimetype": "text/x-python",
   "name": "python",
   "nbconvert_exporter": "python",
   "pygments_lexer": "ipython3",
   "version": "3.10.13"
  }
 },
 "nbformat": 4,
 "nbformat_minor": 5
}
