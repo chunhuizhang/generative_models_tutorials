{
 "cells": [
  {
   "cell_type": "code",
   "execution_count": 1,
   "id": "819062de-3927-40e8-bb7d-11a66b396928",
   "metadata": {},
   "outputs": [],
   "source": [
    "from IPython.display import Image"
   ]
  },
  {
   "cell_type": "markdown",
   "id": "487cbcee-8feb-4e81-a4cb-ddf744fb0144",
   "metadata": {},
   "source": [
    "## Logistic Regression vs. Naive Bayes"
   ]
  },
  {
   "cell_type": "code",
   "execution_count": 5,
   "id": "d4201f5d-25c6-412a-a591-a02f5737a303",
   "metadata": {},
   "outputs": [
    {
     "data": {
      "text/html": [
       "<img src=\"../imgs/Discriminative_vs_Generative.jpeg\" width=\"400\"/>"
      ],
      "text/plain": [
       "<IPython.core.display.Image object>"
      ]
     },
     "execution_count": 5,
     "metadata": {},
     "output_type": "execute_result"
    }
   ],
   "source": [
    "Image(url='../imgs/Discriminative_vs_Generative.jpeg', width=400)"
   ]
  },
  {
   "cell_type": "markdown",
   "id": "71696e74-589c-4912-b540-2ff2b95b0488",
   "metadata": {},
   "source": [
    "- Dog vs. Cat classifier\n",
    "- Discriminative Classifier (Logistic Regression)\n",
    "\n",
    "    $$\n",
    "    \\hat c={\\arg\\max}_{c\\in \\mathcal C} \\overbrace{p(c|x)}^{\\text{posterior}}\n",
    "    $$\n",
    "\n",
    "- Generative Classifier（Naive Bayes）\n",
    "\n",
    "    $$\n",
    "    \\hat c={\\arg\\max}_{c\\in \\mathcal C} \\overbrace{p(x|c)}^{\\text{likelihood}}\\overbrace{p(c)}^{\\text{prior}}\n",
    "    $$\n",
    "\n",
    "    - build a model for Dog\n",
    "    - build a model for Cat\n",
    "    - given a new image, Run both models and see which one fits better\n",
    "\n",
    "$$\n",
    "\\begin{split}\n",
    "p(C_1|x)&=\\frac{p(C_1)p(x|C_1)}{p(C_1)p(x|C_1)+p(C_2)p(x|C_2)}\\\\\n",
    "&=\\frac{1}{1+\\exp(-a)},\\quad a = \\ln\\frac{p(C_1)p(x|C_1)}{p(C_2)p(x|C_2)}\n",
    "\\end{split}\n",
    "$$\n",
    "\n",
    "- generative model, class-conditionals，$a = \\ln\\frac{p(C_1)p(x|C_1)}{p(C_2)p(x|C_2)}$\n",
    "- discriminative model，$a=\\textbf w^Tx$"
   ]
  },
  {
   "cell_type": "code",
   "execution_count": 6,
   "id": "36cd12ab-086d-49c3-8348-684d7b233103",
   "metadata": {},
   "outputs": [
    {
     "data": {
      "text/html": [
       "<img src=\"../imgs/posterior.png\" width=\"400\"/>"
      ],
      "text/plain": [
       "<IPython.core.display.Image object>"
      ]
     },
     "execution_count": 6,
     "metadata": {},
     "output_type": "execute_result"
    }
   ],
   "source": [
    "Image(url='../imgs/posterior.png', width=400)"
   ]
  }
 ],
 "metadata": {
  "kernelspec": {
   "display_name": "Python 3 (ipykernel)",
   "language": "python",
   "name": "python3"
  },
  "language_info": {
   "codemirror_mode": {
    "name": "ipython",
    "version": 3
   },
   "file_extension": ".py",
   "mimetype": "text/x-python",
   "name": "python",
   "nbconvert_exporter": "python",
   "pygments_lexer": "ipython3",
   "version": "3.10.13"
  }
 },
 "nbformat": 4,
 "nbformat_minor": 5
}
